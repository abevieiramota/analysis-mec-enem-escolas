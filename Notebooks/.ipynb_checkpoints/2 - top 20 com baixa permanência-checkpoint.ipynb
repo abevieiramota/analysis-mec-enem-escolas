{
 "cells": [
  {
   "cell_type": "markdown",
   "metadata": {},
   "source": [
    "# motivado por http://g1.globo.com/educacao/noticia/2015/08/metade-no-top-20-do-enem-recebe-maioria-dos-alunos-no-ano-da-prova.html"
   ]
  },
  {
   "cell_type": "code",
   "execution_count": 1,
   "metadata": {
    "collapsed": true
   },
   "outputs": [],
   "source": [
    "import pandas as pd\n",
    "%matplotlib inline"
   ]
  },
  {
   "cell_type": "code",
   "execution_count": 2,
   "metadata": {
    "collapsed": true
   },
   "outputs": [],
   "source": [
    "df = pd.read_csv('../Dataset/full.csv', encoding='utf-8')"
   ]
  },
  {
   "cell_type": "markdown",
   "metadata": {},
   "source": [
    "# Calculando a média da média dos 30 melhores alunos de todas as áreas de conhecimento(apenas objetivas, e todas)"
   ]
  },
  {
   "cell_type": "code",
   "execution_count": 13,
   "metadata": {
    "collapsed": true
   },
   "outputs": [],
   "source": [
    "media_columns_objetivas = ['media_CH', 'media_MAT', 'media_CN', 'media_LC']\n",
    "media_columns_all = ['media_CH', 'media_RED', 'media_MAT', 'media_CN', 'media_LC']"
   ]
  },
  {
   "cell_type": "code",
   "execution_count": 14,
   "metadata": {
    "collapsed": false
   },
   "outputs": [],
   "source": [
    "df['media_media_30_melhores_objetiva'] = df[media_columns_objetivas].apply(lambda x: x.mean(), axis=1)\n",
    "df['media_media_30_melhores_all'] = df[media_columns_all].apply(lambda x: x.mean(), axis=1)"
   ]
  },
  {
   "cell_type": "markdown",
   "metadata": {},
   "source": [
    "# Ordenando pela média calculada e pegando os 20 top(objetivas apenas)"
   ]
  },
  {
   "cell_type": "code",
   "execution_count": 37,
   "metadata": {
    "collapsed": false
   },
   "outputs": [
    {
     "data": {
      "text/html": [
       "<div>\n",
       "<table border=\"1\" class=\"dataframe\">\n",
       "  <thead>\n",
       "    <tr style=\"text-align: right;\">\n",
       "      <th></th>\n",
       "      <th>nome</th>\n",
       "      <th>uf</th>\n",
       "      <th>indicador_permanencia_escola</th>\n",
       "      <th>media_media_30_melhores_objetiva</th>\n",
       "    </tr>\n",
       "  </thead>\n",
       "  <tbody>\n",
       "    <tr>\n",
       "      <th>15089</th>\n",
       "      <td>OBJETIVO COLEGIO INTEGRADO</td>\n",
       "      <td>SP</td>\n",
       "      <td>De 60% a 80%</td>\n",
       "      <td>742.958929</td>\n",
       "    </tr>\n",
       "    <tr>\n",
       "      <th>1537</th>\n",
       "      <td>FARIAS BRITO COLEGIO DE APLICACAO</td>\n",
       "      <td>CE</td>\n",
       "      <td>Menos de 20%</td>\n",
       "      <td>737.876705</td>\n",
       "    </tr>\n",
       "    <tr>\n",
       "      <th>2834</th>\n",
       "      <td>COLEGIO OLIMPO INTEGRAL</td>\n",
       "      <td>GO</td>\n",
       "      <td>Menos de 20%</td>\n",
       "      <td>735.021528</td>\n",
       "    </tr>\n",
       "    <tr>\n",
       "      <th>1539</th>\n",
       "      <td>CHRISTUS COLEGIO PRE UNIVERSITARIO</td>\n",
       "      <td>CE</td>\n",
       "      <td>Menos de 20%</td>\n",
       "      <td>731.382328</td>\n",
       "    </tr>\n",
       "    <tr>\n",
       "      <th>3789</th>\n",
       "      <td>COLEGIO BERNOULLI - UNIDADE LOURDES</td>\n",
       "      <td>MG</td>\n",
       "      <td>De 40% a 60%</td>\n",
       "      <td>730.325939</td>\n",
       "    </tr>\n",
       "    <tr>\n",
       "      <th>1522</th>\n",
       "      <td>ARI DE SA CAVALCANTE COLEGIO - MAJOR FACUNDO</td>\n",
       "      <td>CE</td>\n",
       "      <td>Menos de 20%</td>\n",
       "      <td>725.085417</td>\n",
       "    </tr>\n",
       "    <tr>\n",
       "      <th>9481</th>\n",
       "      <td>COLEGIO E CURSO PONTO DE ENSINO</td>\n",
       "      <td>RJ</td>\n",
       "      <td>Menos de 20%</td>\n",
       "      <td>720.732895</td>\n",
       "    </tr>\n",
       "    <tr>\n",
       "      <th>4289</th>\n",
       "      <td>COLEGIO ELITE VALE DO ACO</td>\n",
       "      <td>MG</td>\n",
       "      <td>De 40% a 60%</td>\n",
       "      <td>719.813587</td>\n",
       "    </tr>\n",
       "    <tr>\n",
       "      <th>3790</th>\n",
       "      <td>COLEGUIUM</td>\n",
       "      <td>MG</td>\n",
       "      <td>De 60% a 80%</td>\n",
       "      <td>719.706944</td>\n",
       "    </tr>\n",
       "    <tr>\n",
       "      <th>13592</th>\n",
       "      <td>OBJETIVO INTEGRADO DE MOGI DAS CRUZES COLEGIO</td>\n",
       "      <td>SP</td>\n",
       "      <td>80% ou mais</td>\n",
       "      <td>718.661047</td>\n",
       "    </tr>\n",
       "    <tr>\n",
       "      <th>5417</th>\n",
       "      <td>COLEGIO BIONATUS II</td>\n",
       "      <td>MS</td>\n",
       "      <td>Menos de 20%</td>\n",
       "      <td>712.911194</td>\n",
       "    </tr>\n",
       "    <tr>\n",
       "      <th>3706</th>\n",
       "      <td>COLEGIO SANTO ANTONIO</td>\n",
       "      <td>MG</td>\n",
       "      <td>De 60% a 80%</td>\n",
       "      <td>711.953671</td>\n",
       "    </tr>\n",
       "    <tr>\n",
       "      <th>8938</th>\n",
       "      <td>COLEGIO E CURSO PONTO DE ENSINO</td>\n",
       "      <td>RJ</td>\n",
       "      <td>De 20% a 40%</td>\n",
       "      <td>711.356667</td>\n",
       "    </tr>\n",
       "    <tr>\n",
       "      <th>14945</th>\n",
       "      <td>VERTICE COLEGIO UNIDADE II</td>\n",
       "      <td>SP</td>\n",
       "      <td>80% ou mais</td>\n",
       "      <td>710.991525</td>\n",
       "    </tr>\n",
       "    <tr>\n",
       "      <th>9498</th>\n",
       "      <td>COLEGIO E CURSO PONTO DE ENSINO</td>\n",
       "      <td>RJ</td>\n",
       "      <td>Menos de 20%</td>\n",
       "      <td>709.433333</td>\n",
       "    </tr>\n",
       "    <tr>\n",
       "      <th>7496</th>\n",
       "      <td>INST DOM BARRETO</td>\n",
       "      <td>PI</td>\n",
       "      <td>80% ou mais</td>\n",
       "      <td>705.256838</td>\n",
       "    </tr>\n",
       "    <tr>\n",
       "      <th>9242</th>\n",
       "      <td>COL DE SAO BENTO</td>\n",
       "      <td>RJ</td>\n",
       "      <td>80% ou mais</td>\n",
       "      <td>704.943750</td>\n",
       "    </tr>\n",
       "    <tr>\n",
       "      <th>14045</th>\n",
       "      <td>SEB COC UNIDADE ALVARES CABRAL</td>\n",
       "      <td>SP</td>\n",
       "      <td>De 60% a 80%</td>\n",
       "      <td>701.697024</td>\n",
       "    </tr>\n",
       "    <tr>\n",
       "      <th>12777</th>\n",
       "      <td>ANGLO LEONARDO DA VINCI COLEGIO</td>\n",
       "      <td>SP</td>\n",
       "      <td>80% ou mais</td>\n",
       "      <td>701.105556</td>\n",
       "    </tr>\n",
       "    <tr>\n",
       "      <th>7481</th>\n",
       "      <td>COLEGIO LEROTE LTDA</td>\n",
       "      <td>PI</td>\n",
       "      <td>80% ou mais</td>\n",
       "      <td>700.859615</td>\n",
       "    </tr>\n",
       "  </tbody>\n",
       "</table>\n",
       "</div>"
      ],
      "text/plain": [
       "                                                nome  uf  \\\n",
       "15089                     OBJETIVO COLEGIO INTEGRADO  SP   \n",
       "1537               FARIAS BRITO COLEGIO DE APLICACAO  CE   \n",
       "2834                         COLEGIO OLIMPO INTEGRAL  GO   \n",
       "1539              CHRISTUS COLEGIO PRE UNIVERSITARIO  CE   \n",
       "3789             COLEGIO BERNOULLI - UNIDADE LOURDES  MG   \n",
       "1522    ARI DE SA CAVALCANTE COLEGIO - MAJOR FACUNDO  CE   \n",
       "9481                 COLEGIO E CURSO PONTO DE ENSINO  RJ   \n",
       "4289                       COLEGIO ELITE VALE DO ACO  MG   \n",
       "3790                                       COLEGUIUM  MG   \n",
       "13592  OBJETIVO INTEGRADO DE MOGI DAS CRUZES COLEGIO  SP   \n",
       "5417                             COLEGIO BIONATUS II  MS   \n",
       "3706                           COLEGIO SANTO ANTONIO  MG   \n",
       "8938                 COLEGIO E CURSO PONTO DE ENSINO  RJ   \n",
       "14945                     VERTICE COLEGIO UNIDADE II  SP   \n",
       "9498                 COLEGIO E CURSO PONTO DE ENSINO  RJ   \n",
       "7496                                INST DOM BARRETO  PI   \n",
       "9242                                COL DE SAO BENTO  RJ   \n",
       "14045                 SEB COC UNIDADE ALVARES CABRAL  SP   \n",
       "12777                ANGLO LEONARDO DA VINCI COLEGIO  SP   \n",
       "7481                             COLEGIO LEROTE LTDA  PI   \n",
       "\n",
       "      indicador_permanencia_escola  media_media_30_melhores_objetiva  \n",
       "15089                 De 60% a 80%                        742.958929  \n",
       "1537                  Menos de 20%                        737.876705  \n",
       "2834                  Menos de 20%                        735.021528  \n",
       "1539                  Menos de 20%                        731.382328  \n",
       "3789                  De 40% a 60%                        730.325939  \n",
       "1522                  Menos de 20%                        725.085417  \n",
       "9481                  Menos de 20%                        720.732895  \n",
       "4289                  De 40% a 60%                        719.813587  \n",
       "3790                  De 60% a 80%                        719.706944  \n",
       "13592                  80% ou mais                        718.661047  \n",
       "5417                  Menos de 20%                        712.911194  \n",
       "3706                  De 60% a 80%                        711.953671  \n",
       "8938                  De 20% a 40%                        711.356667  \n",
       "14945                  80% ou mais                        710.991525  \n",
       "9498                  Menos de 20%                        709.433333  \n",
       "7496                   80% ou mais                        705.256838  \n",
       "9242                   80% ou mais                        704.943750  \n",
       "14045                 De 60% a 80%                        701.697024  \n",
       "12777                  80% ou mais                        701.105556  \n",
       "7481                   80% ou mais                        700.859615  "
      ]
     },
     "execution_count": 37,
     "metadata": {},
     "output_type": "execute_result"
    }
   ],
   "source": [
    "apenas_obj_df = df.sort('media_media_30_melhores_objetiva', ascending=False).head(20)\n",
    "\n",
    "apenas_obj_df[['nome', 'uf', 'indicador_permanencia_escola', 'media_media_30_melhores_objetiva']]"
   ]
  },
  {
   "cell_type": "markdown",
   "metadata": {},
   "source": [
    "# Ordenando pela média calculada e pegando os 20 top(todas provas)"
   ]
  },
  {
   "cell_type": "code",
   "execution_count": 28,
   "metadata": {
    "collapsed": false
   },
   "outputs": [
    {
     "data": {
      "text/html": [
       "<div>\n",
       "<table border=\"1\" class=\"dataframe\">\n",
       "  <thead>\n",
       "    <tr style=\"text-align: right;\">\n",
       "      <th></th>\n",
       "      <th>nome</th>\n",
       "      <th>indicador_permanencia_escola</th>\n",
       "      <th>media_media_30_melhores_all</th>\n",
       "    </tr>\n",
       "  </thead>\n",
       "  <tbody>\n",
       "    <tr>\n",
       "      <th>2834</th>\n",
       "      <td>COLEGIO OLIMPO INTEGRAL</td>\n",
       "      <td>Menos de 20%</td>\n",
       "      <td>755.572778</td>\n",
       "    </tr>\n",
       "    <tr>\n",
       "      <th>1539</th>\n",
       "      <td>CHRISTUS COLEGIO PRE UNIVERSITARIO</td>\n",
       "      <td>Menos de 20%</td>\n",
       "      <td>752.830000</td>\n",
       "    </tr>\n",
       "    <tr>\n",
       "      <th>15089</th>\n",
       "      <td>OBJETIVO COLEGIO INTEGRADO</td>\n",
       "      <td>De 60% a 80%</td>\n",
       "      <td>749.319524</td>\n",
       "    </tr>\n",
       "    <tr>\n",
       "      <th>1537</th>\n",
       "      <td>FARIAS BRITO COLEGIO DE APLICACAO</td>\n",
       "      <td>Menos de 20%</td>\n",
       "      <td>747.574091</td>\n",
       "    </tr>\n",
       "    <tr>\n",
       "      <th>5417</th>\n",
       "      <td>COLEGIO BIONATUS II</td>\n",
       "      <td>Menos de 20%</td>\n",
       "      <td>744.418507</td>\n",
       "    </tr>\n",
       "    <tr>\n",
       "      <th>3789</th>\n",
       "      <td>COLEGIO BERNOULLI - UNIDADE LOURDES</td>\n",
       "      <td>De 40% a 60%</td>\n",
       "      <td>744.137884</td>\n",
       "    </tr>\n",
       "    <tr>\n",
       "      <th>1522</th>\n",
       "      <td>ARI DE SA CAVALCANTE COLEGIO - MAJOR FACUNDO</td>\n",
       "      <td>Menos de 20%</td>\n",
       "      <td>741.735000</td>\n",
       "    </tr>\n",
       "    <tr>\n",
       "      <th>9242</th>\n",
       "      <td>COL DE SAO BENTO</td>\n",
       "      <td>80% ou mais</td>\n",
       "      <td>741.267500</td>\n",
       "    </tr>\n",
       "    <tr>\n",
       "      <th>3790</th>\n",
       "      <td>COLEGUIUM</td>\n",
       "      <td>De 60% a 80%</td>\n",
       "      <td>737.321111</td>\n",
       "    </tr>\n",
       "    <tr>\n",
       "      <th>4289</th>\n",
       "      <td>COLEGIO ELITE VALE DO ACO</td>\n",
       "      <td>De 40% a 60%</td>\n",
       "      <td>731.503043</td>\n",
       "    </tr>\n",
       "    <tr>\n",
       "      <th>7481</th>\n",
       "      <td>COLEGIO LEROTE LTDA</td>\n",
       "      <td>80% ou mais</td>\n",
       "      <td>729.610769</td>\n",
       "    </tr>\n",
       "    <tr>\n",
       "      <th>8938</th>\n",
       "      <td>COLEGIO E CURSO PONTO DE ENSINO</td>\n",
       "      <td>De 20% a 40%</td>\n",
       "      <td>726.685333</td>\n",
       "    </tr>\n",
       "    <tr>\n",
       "      <th>13592</th>\n",
       "      <td>OBJETIVO INTEGRADO DE MOGI DAS CRUZES COLEGIO</td>\n",
       "      <td>80% ou mais</td>\n",
       "      <td>726.463721</td>\n",
       "    </tr>\n",
       "    <tr>\n",
       "      <th>3706</th>\n",
       "      <td>COLEGIO SANTO ANTONIO</td>\n",
       "      <td>De 60% a 80%</td>\n",
       "      <td>725.658175</td>\n",
       "    </tr>\n",
       "    <tr>\n",
       "      <th>9498</th>\n",
       "      <td>COLEGIO E CURSO PONTO DE ENSINO</td>\n",
       "      <td>Menos de 20%</td>\n",
       "      <td>725.176296</td>\n",
       "    </tr>\n",
       "    <tr>\n",
       "      <th>3704</th>\n",
       "      <td>COLEGIO SANTO AGOSTINHO</td>\n",
       "      <td>80% ou mais</td>\n",
       "      <td>720.802972</td>\n",
       "    </tr>\n",
       "    <tr>\n",
       "      <th>1538</th>\n",
       "      <td>ARI DE SA CAVALCANTE SEDE MARIO MAMEDE COLEGIO</td>\n",
       "      <td>Menos de 20%</td>\n",
       "      <td>719.974000</td>\n",
       "    </tr>\n",
       "    <tr>\n",
       "      <th>9481</th>\n",
       "      <td>COLEGIO E CURSO PONTO DE ENSINO</td>\n",
       "      <td>Menos de 20%</td>\n",
       "      <td>719.744211</td>\n",
       "    </tr>\n",
       "    <tr>\n",
       "      <th>7496</th>\n",
       "      <td>INST DOM BARRETO</td>\n",
       "      <td>80% ou mais</td>\n",
       "      <td>719.248205</td>\n",
       "    </tr>\n",
       "    <tr>\n",
       "      <th>5281</th>\n",
       "      <td>COL DE APLICACAO DA UFV - COLUNI</td>\n",
       "      <td>De 60% a 80%</td>\n",
       "      <td>718.371242</td>\n",
       "    </tr>\n",
       "  </tbody>\n",
       "</table>\n",
       "</div>"
      ],
      "text/plain": [
       "                                                 nome  \\\n",
       "2834                          COLEGIO OLIMPO INTEGRAL   \n",
       "1539               CHRISTUS COLEGIO PRE UNIVERSITARIO   \n",
       "15089                      OBJETIVO COLEGIO INTEGRADO   \n",
       "1537                FARIAS BRITO COLEGIO DE APLICACAO   \n",
       "5417                              COLEGIO BIONATUS II   \n",
       "3789              COLEGIO BERNOULLI - UNIDADE LOURDES   \n",
       "1522     ARI DE SA CAVALCANTE COLEGIO - MAJOR FACUNDO   \n",
       "9242                                 COL DE SAO BENTO   \n",
       "3790                                        COLEGUIUM   \n",
       "4289                        COLEGIO ELITE VALE DO ACO   \n",
       "7481                              COLEGIO LEROTE LTDA   \n",
       "8938                  COLEGIO E CURSO PONTO DE ENSINO   \n",
       "13592   OBJETIVO INTEGRADO DE MOGI DAS CRUZES COLEGIO   \n",
       "3706                            COLEGIO SANTO ANTONIO   \n",
       "9498                  COLEGIO E CURSO PONTO DE ENSINO   \n",
       "3704                          COLEGIO SANTO AGOSTINHO   \n",
       "1538   ARI DE SA CAVALCANTE SEDE MARIO MAMEDE COLEGIO   \n",
       "9481                  COLEGIO E CURSO PONTO DE ENSINO   \n",
       "7496                                 INST DOM BARRETO   \n",
       "5281                 COL DE APLICACAO DA UFV - COLUNI   \n",
       "\n",
       "      indicador_permanencia_escola  media_media_30_melhores_all  \n",
       "2834                  Menos de 20%                   755.572778  \n",
       "1539                  Menos de 20%                   752.830000  \n",
       "15089                 De 60% a 80%                   749.319524  \n",
       "1537                  Menos de 20%                   747.574091  \n",
       "5417                  Menos de 20%                   744.418507  \n",
       "3789                  De 40% a 60%                   744.137884  \n",
       "1522                  Menos de 20%                   741.735000  \n",
       "9242                   80% ou mais                   741.267500  \n",
       "3790                  De 60% a 80%                   737.321111  \n",
       "4289                  De 40% a 60%                   731.503043  \n",
       "7481                   80% ou mais                   729.610769  \n",
       "8938                  De 20% a 40%                   726.685333  \n",
       "13592                  80% ou mais                   726.463721  \n",
       "3706                  De 60% a 80%                   725.658175  \n",
       "9498                  Menos de 20%                   725.176296  \n",
       "3704                   80% ou mais                   720.802972  \n",
       "1538                  Menos de 20%                   719.974000  \n",
       "9481                  Menos de 20%                   719.744211  \n",
       "7496                   80% ou mais                   719.248205  \n",
       "5281                  De 60% a 80%                   718.371242  "
      ]
     },
     "execution_count": 28,
     "metadata": {},
     "output_type": "execute_result"
    }
   ],
   "source": [
    "todas_provas_df = df.sort('media_media_30_melhores_all', ascending=False).head(20)\n",
    "\n",
    "todas_provas_df[['nome', 'indicador_permanencia_escola', 'media_media_30_melhores_all']]"
   ]
  },
  {
   "cell_type": "markdown",
   "metadata": {},
   "source": [
    "# Juntando os dois"
   ]
  },
  {
   "cell_type": "markdown",
   "metadata": {},
   "source": [
    "## Quantos estão no top 20, por estado?"
   ]
  },
  {
   "cell_type": "code",
   "execution_count": 53,
   "metadata": {
    "collapsed": false
   },
   "outputs": [
    {
     "data": {
      "text/plain": [
       "<matplotlib.axes._subplots.AxesSubplot at 0xc78a358>"
      ]
     },
     "execution_count": 53,
     "metadata": {},
     "output_type": "execute_result"
    },
    {
     "data": {
      "image/png": "[encoded data removed]",
      "text/plain": [
       "<matplotlib.figure.Figure at 0x129a3320>"
      ]
     },
     "metadata": {},
     "output_type": "display_data"
    }
   ],
   "source": [
    "qtd_uf_apenas_obj = apenas_obj_df.uf.value_counts()\n",
    "qtd_uf_todas_provas = todas_provas_df.uf.value_counts()\n",
    "qtd_uf = pd.concat([qtd_uf_apenas_obj, qtd_uf_todas_provas], axis=1)\n",
    "qtd_uf.columns = ['apenas_objetivas', 'todas_provas']\n",
    "qtd_uf.sort('apenas_objetivas').plot(kind='bar', figsize=(8, 6))"
   ]
  },
  {
   "cell_type": "markdown",
   "metadata": {},
   "source": [
    "## Quantos estão no top 20, por indicador de permanência?"
   ]
  },
  {
   "cell_type": "code",
   "execution_count": 51,
   "metadata": {
    "collapsed": false
   },
   "outputs": [
    {
     "data": {
      "text/plain": [
       "<matplotlib.axes._subplots.AxesSubplot at 0x128c6b38>"
      ]
     },
     "execution_count": 51,
     "metadata": {},
     "output_type": "execute_result"
    },
    {
     "data": {
      "image/png": "[encoded data removed]",
      "text/plain": [
       "<matplotlib.figure.Figure at 0x119f20b8>"
      ]
     },
     "metadata": {},
     "output_type": "display_data"
    }
   ],
   "source": [
    "qtd_perm_apenas_obj = apenas_obj_df.indicador_permanencia_escola.value_counts()\n",
    "qtd_perm_todas_provas = todas_provas_df.indicador_permanencia_escola.value_counts()\n",
    "qtd_perm = pd.concat([qtd_perm_apenas_obj, qtd_perm_todas_provas], axis=1)\n",
    "qtd_perm.columns = ['apenas_objetivas', 'todas_provas']\n",
    "qtd_perm.sort_index().plot(kind='bar', figsize=(8, 6))"
   ]
  }
 ],
 "metadata": {
  "kernelspec": {
   "display_name": "Python 2",
   "language": "python",
   "name": "python2"
  },
  "language_info": {
   "codemirror_mode": {
    "name": "ipython",
    "version": 2
   },
   "file_extension": ".py",
   "mimetype": "text/x-python",
   "name": "python",
   "nbconvert_exporter": "python",
   "pygments_lexer": "ipython2",
   "version": "2.7.10"
  }
 },
 "nbformat": 4,
 "nbformat_minor": 0
}
