{
 "cells": [
  {
   "cell_type": "code",
   "execution_count": 1,
   "metadata": {
    "collapsed": true
   },
   "outputs": [],
   "source": [
    "import pandas as pd\n",
    "import numpy as np\n",
    "%matplotlib inline"
   ]
  },
  {
   "cell_type": "code",
   "execution_count": 3,
   "metadata": {
    "collapsed": false
   },
   "outputs": [],
   "source": [
    "df = pd.read_excel('../Dataset/enem_escola_2014.xlsx', sheetname=0)"
   ]
  },
  {
   "cell_type": "code",
   "execution_count": 4,
   "metadata": {
    "collapsed": false
   },
   "outputs": [
    {
     "data": {
      "text/plain": [
       "Index([                            u'CARACTERÍSTICAS ESCOLA',\n",
       "                                               u'Unnamed: 1',\n",
       "                                               u'Unnamed: 2',\n",
       "                                               u'Unnamed: 3',\n",
       "                                               u'Unnamed: 4',\n",
       "                                               u'Unnamed: 5',\n",
       "                                               u'Unnamed: 6',\n",
       "                                               u'Unnamed: 7',\n",
       "                                               u'Unnamed: 8',\n",
       "                                               u'Unnamed: 9',\n",
       "                                              u'Unnamed: 10',\n",
       "                                              u'INDICADORES',\n",
       "                                              u'Unnamed: 12',\n",
       "                                              u'Unnamed: 13',\n",
       "                                              u'Unnamed: 14',\n",
       "                                              u'Unnamed: 15',\n",
       "                                              u'Unnamed: 16',\n",
       "                                              u'Unnamed: 17',\n",
       "       u'DESEMPENHO  LINGUAGENS, CÓDIGOS E SUAS TECNOLOGIAS',\n",
       "                                              u'Unnamed: 19',\n",
       "                                              u'Unnamed: 20',\n",
       "                                              u'Unnamed: 21',\n",
       "                                              u'Unnamed: 22',\n",
       "                                              u'Unnamed: 23',\n",
       "                                              u'Unnamed: 24'],\n",
       "      dtype='object')"
      ]
     },
     "execution_count": 4,
     "metadata": {},
     "output_type": "execute_result"
    }
   ],
   "source": [
    "df.columns"
   ]
  },
  {
   "cell_type": "code",
   "execution_count": 5,
   "metadata": {
    "collapsed": false
   },
   "outputs": [
    {
     "data": {
      "text/html": [
       "<div>\n",
       "<table border=\"1\" class=\"dataframe\">\n",
       "  <thead>\n",
       "    <tr style=\"text-align: right;\">\n",
       "      <th></th>\n",
       "      <th>CARACTERÍSTICAS ESCOLA</th>\n",
       "      <th>Unnamed: 1</th>\n",
       "      <th>Unnamed: 2</th>\n",
       "      <th>Unnamed: 3</th>\n",
       "      <th>Unnamed: 4</th>\n",
       "      <th>Unnamed: 5</th>\n",
       "      <th>Unnamed: 6</th>\n",
       "      <th>Unnamed: 7</th>\n",
       "      <th>Unnamed: 8</th>\n",
       "      <th>Unnamed: 9</th>\n",
       "      <th>...</th>\n",
       "      <th>Unnamed: 15</th>\n",
       "      <th>Unnamed: 16</th>\n",
       "      <th>Unnamed: 17</th>\n",
       "      <th>DESEMPENHO  LINGUAGENS, CÓDIGOS E SUAS TECNOLOGIAS</th>\n",
       "      <th>Unnamed: 19</th>\n",
       "      <th>Unnamed: 20</th>\n",
       "      <th>Unnamed: 21</th>\n",
       "      <th>Unnamed: 22</th>\n",
       "      <th>Unnamed: 23</th>\n",
       "      <th>Unnamed: 24</th>\n",
       "    </tr>\n",
       "  </thead>\n",
       "  <tbody>\n",
       "    <tr>\n",
       "      <th>0</th>\n",
       "      <td>CÓDIGO DA ENTIDADE</td>\n",
       "      <td>NOME DA ENTIDADE</td>\n",
       "      <td>SIGLA DA UF</td>\n",
       "      <td>MUNICÍPIO</td>\n",
       "      <td>DEPENDÊNCIA ADMINISTRATIVA</td>\n",
       "      <td>LOCALIZAÇÃO</td>\n",
       "      <td>NÚMERO DE ALUNOS NO CENSO</td>\n",
       "      <td>PORTE DA ESCOLA</td>\n",
       "      <td>NÚMERO DE PARTICIPANTES NO ENEM</td>\n",
       "      <td>TAXA DE PARTICPAÇÃO</td>\n",
       "      <td>...</td>\n",
       "      <td>TAXA DE APROVAÇÃO</td>\n",
       "      <td>TAXA DE REPROVAÇÃO</td>\n",
       "      <td>TAXA DE ABANDONO</td>\n",
       "      <td>MÉDIA DOS 30 MELHORES ALUNOS DA ESCOLA</td>\n",
       "      <td>MÉDIA</td>\n",
       "      <td>Percentual alunos NÍVEL 1</td>\n",
       "      <td>Percentual alunos NÍVEL 2</td>\n",
       "      <td>Percentual alunos NÍVEL 3</td>\n",
       "      <td>Percentual alunos NÍVEL 4</td>\n",
       "      <td>Percentual alunos NÍVEL 5</td>\n",
       "    </tr>\n",
       "  </tbody>\n",
       "</table>\n",
       "<p>1 rows × 25 columns</p>\n",
       "</div>"
      ],
      "text/plain": [
       "  CARACTERÍSTICAS ESCOLA        Unnamed: 1   Unnamed: 2 Unnamed: 3  \\\n",
       "0     CÓDIGO DA ENTIDADE  NOME DA ENTIDADE  SIGLA DA UF  MUNICÍPIO   \n",
       "\n",
       "                   Unnamed: 4   Unnamed: 5                 Unnamed: 6  \\\n",
       "0  DEPENDÊNCIA ADMINISTRATIVA  LOCALIZAÇÃO  NÚMERO DE ALUNOS NO CENSO   \n",
       "\n",
       "        Unnamed: 7                       Unnamed: 8           Unnamed: 9  \\\n",
       "0  PORTE DA ESCOLA  NÚMERO DE PARTICIPANTES NO ENEM  TAXA DE PARTICPAÇÃO   \n",
       "\n",
       "             ...                    Unnamed: 15         Unnamed: 16  \\\n",
       "0            ...              TAXA DE APROVAÇÃO  TAXA DE REPROVAÇÃO   \n",
       "\n",
       "        Unnamed: 17 DESEMPENHO  LINGUAGENS, CÓDIGOS E SUAS TECNOLOGIAS  \\\n",
       "0  TAXA DE ABANDONO             MÉDIA DOS 30 MELHORES ALUNOS DA ESCOLA   \n",
       "\n",
       "  Unnamed: 19                Unnamed: 20                Unnamed: 21  \\\n",
       "0       MÉDIA  Percentual alunos NÍVEL 1  Percentual alunos NÍVEL 2   \n",
       "\n",
       "                 Unnamed: 22                Unnamed: 23  \\\n",
       "0  Percentual alunos NÍVEL 3  Percentual alunos NÍVEL 4   \n",
       "\n",
       "                 Unnamed: 24  \n",
       "0  Percentual alunos NÍVEL 5  \n",
       "\n",
       "[1 rows x 25 columns]"
      ]
     },
     "execution_count": 5,
     "metadata": {},
     "output_type": "execute_result"
    }
   ],
   "source": [
    "df.head(1)"
   ]
  },
  {
   "cell_type": "code",
   "execution_count": null,
   "metadata": {
    "collapsed": true
   },
   "outputs": [],
   "source": []
  }
 ],
 "metadata": {
  "kernelspec": {
   "display_name": "Python 2",
   "language": "python",
   "name": "python2"
  },
  "language_info": {
   "codemirror_mode": {
    "name": "ipython",
    "version": 2
   },
   "file_extension": ".py",
   "mimetype": "text/x-python",
   "name": "python",
   "nbconvert_exporter": "python",
   "pygments_lexer": "ipython2",
   "version": "2.7.10"
  }
 },
 "nbformat": 4,
 "nbformat_minor": 0
}
